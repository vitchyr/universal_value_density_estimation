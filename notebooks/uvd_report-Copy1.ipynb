{
 "cells": [
  {
   "cell_type": "code",
   "execution_count": 119,
   "metadata": {
    "collapsed": true
   },
   "outputs": [],
   "source": [
    "%matplotlib inline\n",
    "%load_ext autoreload\n",
    "%autoreload 2"
   ]
  },
  {
   "cell_type": "code",
   "execution_count": 122,
   "metadata": {},
   "outputs": [
    {
     "name": "stdout",
     "output_type": "stream",
     "text": [
      "/home/vitchyr\n"
     ]
    }
   ],
   "source": [
    "%cd ..\n",
    "from workflow.processing import *\n",
    "from workflow.plotting import *"
   ]
  },
  {
   "cell_type": "code",
   "execution_count": 151,
   "metadata": {},
   "outputs": [
    {
     "name": "stdout",
     "output_type": "stream",
     "text": [
      "/global/scratch/vitchyr/doodad-log-since-2021-01-27/21-02-04-icml2021--uvd-sweep-mujoco-ant/1/47ea9ea4-6ffa-4d60-8559-b8b225b966f9\n"
     ]
    },
    {
     "data": {
      "text/plain": [
       "21-02-04-icml2021--uvd-sweep-mujoco-ant"
      ]
     },
     "execution_count": 151,
     "metadata": {},
     "output_type": "execute_result"
    }
   ],
   "source": [
    "import plotnine as gg\n",
    "\n",
    "# experiment = Experiment(1, '/home/vitchyr/mnt2/log2/21-02-03-fetch-uvd--first-try/')\n",
    "experiment = Experiment(1, '/home/vitchyr/mnt2/log2/21-02-04-icml2021--uvd-sweep-mujoco-ant/')\n",
    "# experiment = Experiment(1, '/home/vitchyr/mnt2/log2/21-02-04-dev-paper-experiments-experiments-icml2021-sweep-mujoco-sawyer-push/')\n",
    "df = experiment.record()\n",
    "experiment"
   ]
  },
  {
   "cell_type": "code",
   "execution_count": 152,
   "metadata": {},
   "outputs": [
    {
     "data": {
      "text/plain": [
       "Index(['iteration', 'timestamp', 'return', 'env_steps', 'target_fraction',\n",
       "       'target_q', 'td_loss', 'r_loss', 'mean_r', 'mean_r_with_goal',\n",
       "       'max_r_with_goal', 'min_r_with_goal', 'actor_loss', 'valid_r_loss',\n",
       "       'valid_target_r', 'valid_target_v', 'eval_final_success',\n",
       "       'eval_success_rate', 'eval_distance_mean', 'eval_distance_final',\n",
       "       'eval_distance_xy_mean', 'eval_distance_xy_final',\n",
       "       'eval_distance_orientation_mean', 'eval_distance_orientation_final',\n",
       "       'eval_distance_joint_mean', 'eval_distance_joint_final', 'action_norm',\n",
       "       'minute'],\n",
       "      dtype='object')"
      ]
     },
     "execution_count": 152,
     "metadata": {},
     "output_type": "execute_result"
    }
   ],
   "source": [
    "df.columns"
   ]
  },
  {
   "cell_type": "code",
   "execution_count": 161,
   "metadata": {},
   "outputs": [
    {
     "name": "stderr",
     "output_type": "stream",
     "text": [
      "/home/vitchyr/anaconda2/envs/vis/lib/python3.6/site-packages/plotnine/layer.py:464: PlotnineWarning: geom_point : Removed 59585 rows containing missing values.\n"
     ]
    },
    {
     "data": {
      "image/png": "[encoded data removed]",
      "text/plain": [
       "<matplotlib.figure.Figure at 0x7ff92b88beb8>"
      ]
     },
     "metadata": {},
     "output_type": "display_data"
    },
    {
     "data": {
      "text/plain": [
       "<ggplot: (8794259579761)>"
      ]
     },
     "execution_count": 161,
     "metadata": {},
     "output_type": "execute_result"
    }
   ],
   "source": [
    "df['distances'] = df['eval_distance_xy_mean']\n",
    "p = (gg.ggplot(df)\n",
    "     + gg.aes(x='env_steps', y='distances')\n",
    "    + gg.geom_point()\n",
    ")\n",
    "p"
   ]
  },
  {
   "cell_type": "code",
   "execution_count": 147,
   "metadata": {},
   "outputs": [
    {
     "name": "stdout",
     "output_type": "stream",
     "text": [
      "(4684, 27)\n"
     ]
    },
    {
     "data": {
      "text/html": [
       "<div>\n",
       "<style scoped>\n",
       "    .dataframe tbody tr th:only-of-type {\n",
       "        vertical-align: middle;\n",
       "    }\n",
       "\n",
       "    .dataframe tbody tr th {\n",
       "        vertical-align: top;\n",
       "    }\n",
       "\n",
       "    .dataframe thead th {\n",
       "        text-align: right;\n",
       "    }\n",
       "</style>\n",
       "<table border=\"1\" class=\"dataframe\">\n",
       "  <thead>\n",
       "    <tr style=\"text-align: right;\">\n",
       "      <th></th>\n",
       "      <th>iteration</th>\n",
       "      <th>timestamp</th>\n",
       "      <th>return</th>\n",
       "      <th>env_steps</th>\n",
       "      <th>target_fraction</th>\n",
       "      <th>target_q</th>\n",
       "      <th>td_loss</th>\n",
       "      <th>r_loss</th>\n",
       "      <th>mean_r</th>\n",
       "      <th>mean_r_with_goal</th>\n",
       "      <th>...</th>\n",
       "      <th>eval_success_rate</th>\n",
       "      <th>eval_distance_mean</th>\n",
       "      <th>eval_distance_final</th>\n",
       "      <th>eval_distance_hand_mean</th>\n",
       "      <th>eval_distance_hand_final</th>\n",
       "      <th>eval_distance_puck_mean</th>\n",
       "      <th>eval_distance_puck_final</th>\n",
       "      <th>action_norm</th>\n",
       "      <th>minute</th>\n",
       "      <th>distances</th>\n",
       "    </tr>\n",
       "  </thead>\n",
       "  <tbody>\n",
       "    <tr>\n",
       "      <th>4679</th>\n",
       "      <td>4679</td>\n",
       "      <td>1.612431e+09</td>\n",
       "      <td>NaN</td>\n",
       "      <td>5700.0</td>\n",
       "      <td>0.984375</td>\n",
       "      <td>1.066221</td>\n",
       "      <td>0.009547</td>\n",
       "      <td>-8.234489</td>\n",
       "      <td>None</td>\n",
       "      <td>None</td>\n",
       "      <td>...</td>\n",
       "      <td>NaN</td>\n",
       "      <td>NaN</td>\n",
       "      <td>NaN</td>\n",
       "      <td>NaN</td>\n",
       "      <td>NaN</td>\n",
       "      <td>NaN</td>\n",
       "      <td>NaN</td>\n",
       "      <td>NaN</td>\n",
       "      <td>2.202373</td>\n",
       "      <td>NaN</td>\n",
       "    </tr>\n",
       "    <tr>\n",
       "      <th>4680</th>\n",
       "      <td>4680</td>\n",
       "      <td>1.612431e+09</td>\n",
       "      <td>NaN</td>\n",
       "      <td>5700.0</td>\n",
       "      <td>0.976562</td>\n",
       "      <td>1.059791</td>\n",
       "      <td>0.011103</td>\n",
       "      <td>-8.225019</td>\n",
       "      <td>None</td>\n",
       "      <td>None</td>\n",
       "      <td>...</td>\n",
       "      <td>NaN</td>\n",
       "      <td>NaN</td>\n",
       "      <td>NaN</td>\n",
       "      <td>NaN</td>\n",
       "      <td>NaN</td>\n",
       "      <td>NaN</td>\n",
       "      <td>NaN</td>\n",
       "      <td>NaN</td>\n",
       "      <td>2.202731</td>\n",
       "      <td>NaN</td>\n",
       "    </tr>\n",
       "    <tr>\n",
       "      <th>4681</th>\n",
       "      <td>4681</td>\n",
       "      <td>1.612431e+09</td>\n",
       "      <td>NaN</td>\n",
       "      <td>5700.0</td>\n",
       "      <td>0.992188</td>\n",
       "      <td>1.080706</td>\n",
       "      <td>0.005903</td>\n",
       "      <td>-8.238245</td>\n",
       "      <td>None</td>\n",
       "      <td>None</td>\n",
       "      <td>...</td>\n",
       "      <td>NaN</td>\n",
       "      <td>NaN</td>\n",
       "      <td>NaN</td>\n",
       "      <td>NaN</td>\n",
       "      <td>NaN</td>\n",
       "      <td>NaN</td>\n",
       "      <td>NaN</td>\n",
       "      <td>NaN</td>\n",
       "      <td>2.203072</td>\n",
       "      <td>NaN</td>\n",
       "    </tr>\n",
       "    <tr>\n",
       "      <th>4682</th>\n",
       "      <td>4682</td>\n",
       "      <td>1.612431e+09</td>\n",
       "      <td>NaN</td>\n",
       "      <td>5700.0</td>\n",
       "      <td>0.976562</td>\n",
       "      <td>1.063230</td>\n",
       "      <td>0.017320</td>\n",
       "      <td>-8.230616</td>\n",
       "      <td>None</td>\n",
       "      <td>None</td>\n",
       "      <td>...</td>\n",
       "      <td>NaN</td>\n",
       "      <td>NaN</td>\n",
       "      <td>NaN</td>\n",
       "      <td>NaN</td>\n",
       "      <td>NaN</td>\n",
       "      <td>NaN</td>\n",
       "      <td>NaN</td>\n",
       "      <td>NaN</td>\n",
       "      <td>2.203433</td>\n",
       "      <td>NaN</td>\n",
       "    </tr>\n",
       "    <tr>\n",
       "      <th>4683</th>\n",
       "      <td>4683</td>\n",
       "      <td>1.612431e+09</td>\n",
       "      <td>NaN</td>\n",
       "      <td>5700.0</td>\n",
       "      <td>1.000000</td>\n",
       "      <td>1.041757</td>\n",
       "      <td>0.002387</td>\n",
       "      <td>-8.220737</td>\n",
       "      <td>None</td>\n",
       "      <td>None</td>\n",
       "      <td>...</td>\n",
       "      <td>NaN</td>\n",
       "      <td>NaN</td>\n",
       "      <td>NaN</td>\n",
       "      <td>NaN</td>\n",
       "      <td>NaN</td>\n",
       "      <td>NaN</td>\n",
       "      <td>NaN</td>\n",
       "      <td>NaN</td>\n",
       "      <td>2.203773</td>\n",
       "      <td>NaN</td>\n",
       "    </tr>\n",
       "  </tbody>\n",
       "</table>\n",
       "<p>5 rows × 27 columns</p>\n",
       "</div>"
      ],
      "text/plain": [
       "      iteration     timestamp  return  env_steps  target_fraction  target_q  \\\n",
       "4679       4679  1.612431e+09     NaN     5700.0         0.984375  1.066221   \n",
       "4680       4680  1.612431e+09     NaN     5700.0         0.976562  1.059791   \n",
       "4681       4681  1.612431e+09     NaN     5700.0         0.992188  1.080706   \n",
       "4682       4682  1.612431e+09     NaN     5700.0         0.976562  1.063230   \n",
       "4683       4683  1.612431e+09     NaN     5700.0         1.000000  1.041757   \n",
       "\n",
       "       td_loss    r_loss mean_r mean_r_with_goal  ... eval_success_rate  \\\n",
       "4679  0.009547 -8.234489   None             None  ...               NaN   \n",
       "4680  0.011103 -8.225019   None             None  ...               NaN   \n",
       "4681  0.005903 -8.238245   None             None  ...               NaN   \n",
       "4682  0.017320 -8.230616   None             None  ...               NaN   \n",
       "4683  0.002387 -8.220737   None             None  ...               NaN   \n",
       "\n",
       "     eval_distance_mean eval_distance_final eval_distance_hand_mean  \\\n",
       "4679                NaN                 NaN                     NaN   \n",
       "4680                NaN                 NaN                     NaN   \n",
       "4681                NaN                 NaN                     NaN   \n",
       "4682                NaN                 NaN                     NaN   \n",
       "4683                NaN                 NaN                     NaN   \n",
       "\n",
       "     eval_distance_hand_final eval_distance_puck_mean  \\\n",
       "4679                      NaN                     NaN   \n",
       "4680                      NaN                     NaN   \n",
       "4681                      NaN                     NaN   \n",
       "4682                      NaN                     NaN   \n",
       "4683                      NaN                     NaN   \n",
       "\n",
       "      eval_distance_puck_final  action_norm    minute  distances  \n",
       "4679                       NaN          NaN  2.202373        NaN  \n",
       "4680                       NaN          NaN  2.202731        NaN  \n",
       "4681                       NaN          NaN  2.203072        NaN  \n",
       "4682                       NaN          NaN  2.203433        NaN  \n",
       "4683                       NaN          NaN  2.203773        NaN  \n",
       "\n",
       "[5 rows x 27 columns]"
      ]
     },
     "execution_count": 147,
     "metadata": {},
     "output_type": "execute_result"
    }
   ],
   "source": [
    "print(df.shape)\n",
    "df.tail()"
   ]
  },
  {
   "cell_type": "code",
   "execution_count": 7,
   "metadata": {},
   "outputs": [
    {
     "data": {
      "text/plain": [
       "61573.33249425888"
      ]
     },
     "execution_count": 7,
     "metadata": {},
     "output_type": "execute_result"
    }
   ],
   "source": [
    "df['timestamp'].max() - df['timestamp'].min()"
   ]
  },
  {
   "cell_type": "code",
   "execution_count": 8,
   "metadata": {},
   "outputs": [
    {
     "data": {
      "text/plain": [
       "batch_size                        512\n",
       "burnin                          10000\n",
       "critic_learning_rate           0.0008\n",
       "density_learning_rate          0.0002\n",
       "density_replay_size             50000\n",
       "discount_factor                  0.98\n",
       "env_name                 FetchPush-v1\n",
       "exploration_noise                -2.3\n",
       "min_replay_size                  1000\n",
       "num_bijectors                       6\n",
       "num_envs                            1\n",
       "policy_learning_rate           0.0008\n",
       "progressive_noise               False\n",
       "replay_size                   1500000\n",
       "reward_factor                    0.02\n",
       "seed                        272706163\n",
       "sequence_length                     4\n",
       "shuffle_goals                   False\n",
       "small_goal                      False\n",
       "small_goal_size                 0.005\n",
       "step_limit                          1\n",
       "target_action_noise                 0\n",
       "target_update_step               0.01\n",
       "dtype: object"
      ]
     },
     "execution_count": 8,
     "metadata": {},
     "output_type": "execute_result"
    }
   ],
   "source": [
    "experiment.config()"
   ]
  },
  {
   "cell_type": "code",
   "execution_count": 9,
   "metadata": {},
   "outputs": [
    {
     "data": {
      "text/plain": [
       "(0, 1)"
      ]
     },
     "execution_count": 9,
     "metadata": {},
     "output_type": "execute_result"
    },
    {
     "data": {
      "image/png": "[encoded data removed]",
      "text/plain": [
       "<matplotlib.figure.Figure at 0x7f415e5f43c8>"
      ]
     },
     "metadata": {
      "needs_background": "dark"
     },
     "output_type": "display_data"
    }
   ],
   "source": [
    "fig = plot_fields(df.dropna(subset=['eval_success_rate']).assign(eval_success_rate=lambda df: df['eval_success_rate']/50), [\"eval_success_rate\"], x='iteration', preprocessors=[subsample(1), smoothen_fields(1)])\n",
    "plt.ylim((0, 1))"
   ]
  },
  {
   "cell_type": "code",
   "execution_count": 240,
   "metadata": {
    "collapsed": true
   },
   "outputs": [],
   "source": [
    "#df.to_csv(\"/home/anon/gdrive/GT (Research)/uvd_dfs_params_1/difficult_push_uvd1_3\")"
   ]
  },
  {
   "cell_type": "code",
   "execution_count": 153,
   "metadata": {},
   "outputs": [
    {
     "data": {
      "text/html": [
       "<div>\n",
       "<style scoped>\n",
       "    .dataframe tbody tr th:only-of-type {\n",
       "        vertical-align: middle;\n",
       "    }\n",
       "\n",
       "    .dataframe tbody tr th {\n",
       "        vertical-align: top;\n",
       "    }\n",
       "\n",
       "    .dataframe thead th {\n",
       "        text-align: right;\n",
       "    }\n",
       "</style>\n",
       "<table border=\"1\" class=\"dataframe\">\n",
       "  <thead>\n",
       "    <tr style=\"text-align: right;\">\n",
       "      <th></th>\n",
       "      <th>1</th>\n",
       "      <th>2</th>\n",
       "    </tr>\n",
       "  </thead>\n",
       "  <tbody>\n",
       "    <tr>\n",
       "      <th>seed</th>\n",
       "      <td>582913489</td>\n",
       "      <td>825864295</td>\n",
       "    </tr>\n",
       "  </tbody>\n",
       "</table>\n",
       "</div>"
      ],
      "text/plain": [
       "              1          2\n",
       "seed  582913489  825864295"
      ]
     },
     "execution_count": 153,
     "metadata": {},
     "output_type": "execute_result"
    }
   ],
   "source": [
    "def compare_xids(xid1, xid2):\n",
    "    directory = '/home/anon/sacred_partition/'\n",
    "    config_1 = Experiment(xid1, directory).config()\n",
    "    config_2 = Experiment(xid2, directory).config()\n",
    "\n",
    "    return pd.DataFrame({xid1: config_1, xid2: config_2}).where(config_1 != config_2).dropna()\n",
    "compare_xids(1, 2)"
   ]
  },
  {
   "cell_type": "code",
   "execution_count": 373,
   "metadata": {
    "collapsed": true
   },
   "outputs": [],
   "source": []
  },
  {
   "cell_type": "code",
   "execution_count": 392,
   "metadata": {},
   "outputs": [
    {
     "data": {
      "text/plain": [
       "batch_size                         512\n",
       "burnin                           10000\n",
       "critic_learning_rate             5e-05\n",
       "density_learning_rate           0.0002\n",
       "density_replay_size              50000\n",
       "discount_factor                   0.98\n",
       "env_name                 FetchSlide-v1\n",
       "exploration_noise                 -2.3\n",
       "min_replay_size                   1000\n",
       "num_envs                             3\n",
       "policy_learning_rate             5e-05\n",
       "progressive_noise                 True\n",
       "replay_size                    1500000\n",
       "seed                          81316830\n",
       "shuffle_goals                    False\n",
       "small_goal                       False\n",
       "step_limit                           1\n",
       "target_action_noise                  0\n",
       "target_update_step                0.01\n",
       "dtype: object"
      ]
     },
     "execution_count": 392,
     "metadata": {},
     "output_type": "execute_result"
    }
   ],
   "source": [
    "experiment.config()"
   ]
  },
  {
   "cell_type": "code",
   "execution_count": 102,
   "metadata": {},
   "outputs": [
    {
     "data": {
      "image/png": "[encoded data removed]",
      "text/plain": [
       "<Figure size 864x576 with 1 Axes>"
      ]
     },
     "metadata": {
      "needs_background": "dark"
     },
     "output_type": "display_data"
    }
   ],
   "source": [
    "fig = plot_fields(df, [\"return\"], x='iteration', preprocessors=[subsample(1), smoothen_fields(1000)])"
   ]
  },
  {
   "cell_type": "code",
   "execution_count": 249,
   "metadata": {},
   "outputs": [
    {
     "data": {
      "text/plain": [
       "(0, 1)"
      ]
     },
     "execution_count": 249,
     "metadata": {},
     "output_type": "execute_result"
    },
    {
     "data": {
      "image/png": "[encoded data removed]",
      "text/plain": [
       "<Figure size 864x576 with 1 Axes>"
      ]
     },
     "metadata": {
      "needs_background": "dark"
     },
     "output_type": "display_data"
    }
   ],
   "source": [
    "fig = plot_fields(df.dropna(subset=['eval_success_rate']).assign(eval_success_rate=lambda df: df['eval_success_rate']/50), [\"eval_success_rate\"], x='iteration', preprocessors=[subsample(1), smoothen_fields(1)])\n",
    "plt.ylim((0, 1))"
   ]
  },
  {
   "cell_type": "code",
   "execution_count": 131,
   "metadata": {},
   "outputs": [
    {
     "data": {
      "image/png": "[encoded data removed]",
      "text/plain": [
       "<Figure size 864x576 with 1 Axes>"
      ]
     },
     "metadata": {
      "needs_background": "dark"
     },
     "output_type": "display_data"
    }
   ],
   "source": [
    "fig = plot_fields(df, [\"td_loss\"], x='iteration', preprocessors=[smoothen_fields(100)])"
   ]
  },
  {
   "cell_type": "code",
   "execution_count": null,
   "metadata": {
    "collapsed": true
   },
   "outputs": [],
   "source": []
  },
  {
   "cell_type": "code",
   "execution_count": null,
   "metadata": {
    "collapsed": true
   },
   "outputs": [],
   "source": []
  },
  {
   "cell_type": "code",
   "execution_count": null,
   "metadata": {
    "collapsed": true
   },
   "outputs": [],
   "source": []
  },
  {
   "cell_type": "code",
   "execution_count": null,
   "metadata": {
    "collapsed": true
   },
   "outputs": [],
   "source": []
  },
  {
   "cell_type": "code",
   "execution_count": null,
   "metadata": {
    "collapsed": true
   },
   "outputs": [],
   "source": []
  },
  {
   "cell_type": "code",
   "execution_count": null,
   "metadata": {
    "collapsed": true
   },
   "outputs": [],
   "source": []
  },
  {
   "cell_type": "code",
   "execution_count": null,
   "metadata": {
    "collapsed": true
   },
   "outputs": [],
   "source": []
  },
  {
   "cell_type": "code",
   "execution_count": null,
   "metadata": {
    "collapsed": true
   },
   "outputs": [],
   "source": []
  }
 ],
 "metadata": {
  "kernelspec": {
   "display_name": "Python [conda env:vis]",
   "language": "python",
   "name": "conda-env-vis-py"
  },
  "language_info": {
   "codemirror_mode": {
    "name": "ipython",
    "version": 3
   },
   "file_extension": ".py",
   "mimetype": "text/x-python",
   "name": "python",
   "nbconvert_exporter": "python",
   "pygments_lexer": "ipython3",
   "version": "3.6.5"
  },
  "pycharm": {
   "stem_cell": {
    "cell_type": "raw",
    "metadata": {
     "collapsed": false
    },
    "source": []
   }
  }
 },
 "nbformat": 4,
 "nbformat_minor": 2
}
